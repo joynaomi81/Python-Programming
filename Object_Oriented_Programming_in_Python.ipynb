{
  "nbformat": 4,
  "nbformat_minor": 0,
  "metadata": {
    "colab": {
      "provenance": [],
      "toc_visible": true,
      "authorship_tag": "ABX9TyOS29RMfRPFN2FOK3n921Dt",
      "include_colab_link": true
    },
    "kernelspec": {
      "name": "python3",
      "display_name": "Python 3"
    },
    "language_info": {
      "name": "python"
    }
  },
  "cells": [
    {
      "cell_type": "markdown",
      "metadata": {
        "id": "view-in-github",
        "colab_type": "text"
      },
      "source": [
        "<a href=\"https://colab.research.google.com/github/joynaomi81/Python-Programming/blob/main/Object_Oriented_Programming_in_Python.ipynb\" target=\"_parent\"><img src=\"https://colab.research.google.com/assets/colab-badge.svg\" alt=\"Open In Colab\"/></a>"
      ]
    },
    {
      "cell_type": "code",
      "execution_count": 1,
      "metadata": {
        "colab": {
          "base_uri": "https://localhost:8080/"
        },
        "id": "EC1iPMW0OdYJ",
        "outputId": "5f5946c1-8952-4c17-d8a4-3fd0aec281ec"
      },
      "outputs": [
        {
          "output_type": "stream",
          "name": "stdout",
          "text": [
            "<class 'function'>\n"
          ]
        }
      ],
      "source": [
        "def hello():\n",
        "  print ('hello')\n",
        "x=1\n",
        "print(type(hello))"
      ]
    },
    {
      "cell_type": "code",
      "source": [
        "x=1\n",
        "print(type(x))"
      ],
      "metadata": {
        "colab": {
          "base_uri": "https://localhost:8080/"
        },
        "id": "AW5N8-0tPT3d",
        "outputId": "72a1d2f2-9762-4a21-d4de-02d7e664115f"
      },
      "execution_count": 2,
      "outputs": [
        {
          "output_type": "stream",
          "name": "stdout",
          "text": [
            "<class 'int'>\n"
          ]
        }
      ]
    },
    {
      "cell_type": "code",
      "source": [
        "class Bird:\n",
        "  def fly(self):\n",
        "      print('fly')\n",
        "\n",
        "b= Bird()\n",
        "b.fly()\n",
        "print(type(b))"
      ],
      "metadata": {
        "colab": {
          "base_uri": "https://localhost:8080/"
        },
        "id": "Y-evhJElQaLH",
        "outputId": "c6140bcb-818a-4d67-83a8-27f5b04ffd82"
      },
      "execution_count": 3,
      "outputs": [
        {
          "output_type": "stream",
          "name": "stdout",
          "text": [
            "fly\n",
            "<class '__main__.Bird'>\n"
          ]
        }
      ]
    },
    {
      "cell_type": "code",
      "source": [
        "#creting phone class\n",
        "class Phone:\n",
        "  def make_call(self):\n",
        "    print('making phone call')\n",
        "  def play_game(self):\n",
        "    print('Playing Game')"
      ],
      "metadata": {
        "id": "zfCBFXqW6y2v"
      },
      "execution_count": 4,
      "outputs": []
    },
    {
      "cell_type": "code",
      "source": [
        "p1=Phone()\n",
        "p1.make_call()"
      ],
      "metadata": {
        "colab": {
          "base_uri": "https://localhost:8080/"
        },
        "id": "YnCipNYQ6ymF",
        "outputId": "93c7b652-0309-4915-a6f2-7b2cf22052fb"
      },
      "execution_count": 5,
      "outputs": [
        {
          "output_type": "stream",
          "name": "stdout",
          "text": [
            "making phone call\n"
          ]
        }
      ]
    },
    {
      "cell_type": "code",
      "source": [
        "p1.play_game()"
      ],
      "metadata": {
        "colab": {
          "base_uri": "https://localhost:8080/"
        },
        "id": "OG1dl20976Ak",
        "outputId": "22b14168-a2c8-4170-88cd-fd51a2cd0408"
      },
      "execution_count": 6,
      "outputs": [
        {
          "output_type": "stream",
          "name": "stdout",
          "text": [
            "Playing Game\n"
          ]
        }
      ]
    },
    {
      "cell_type": "markdown",
      "source": [
        "Adding parameters to the class"
      ],
      "metadata": {
        "id": "eoJI5UVy9Ijs"
      }
    },
    {
      "cell_type": "code",
      "source": [
        "class Phone:\n",
        "  def playing_game(self):\n",
        "    print('Iam playing a football game')\n",
        "  def make_call(self):\n",
        "    print('Making a call')\n",
        "  def assign_color(self,color):\n",
        "    self.color = color\n",
        "  def assign_cost(self,cost):\n",
        "    self.cost = cost\n",
        "  def show_color(self):\n",
        "    return self.color\n",
        "  def show_cost(self):\n",
        "    return self.cost"
      ],
      "metadata": {
        "id": "jy2DugSE9rFq"
      },
      "execution_count": 7,
      "outputs": []
    },
    {
      "cell_type": "code",
      "source": [
        "p2 = Phone()"
      ],
      "metadata": {
        "id": "rDv9oTZfBqt0"
      },
      "execution_count": 8,
      "outputs": []
    },
    {
      "cell_type": "code",
      "source": [
        "p2.assign_color('blue')\n",
        "p2.assign_cost(1000)"
      ],
      "metadata": {
        "id": "TIbFv2jSB7el"
      },
      "execution_count": 9,
      "outputs": []
    },
    {
      "cell_type": "code",
      "source": [
        "p2.show_color()"
      ],
      "metadata": {
        "id": "cC1RiRynCv6D",
        "colab": {
          "base_uri": "https://localhost:8080/",
          "height": 35
        },
        "outputId": "b5ef3565-deb0-495a-da97-8142a5d50ed0"
      },
      "execution_count": null,
      "outputs": [
        {
          "output_type": "execute_result",
          "data": {
            "text/plain": [
              "'blue'"
            ],
            "application/vnd.google.colaboratory.intrinsic+json": {
              "type": "string"
            }
          },
          "metadata": {},
          "execution_count": 10
        }
      ]
    },
    {
      "cell_type": "code",
      "source": [
        "p2.show_cost()"
      ],
      "metadata": {
        "colab": {
          "base_uri": "https://localhost:8080/"
        },
        "id": "4ZLgZAxRaFRu",
        "outputId": "c8a1ea0f-a397-4c6b-92a4-09c52e5aa01c"
      },
      "execution_count": null,
      "outputs": [
        {
          "output_type": "execute_result",
          "data": {
            "text/plain": [
              "1000"
            ]
          },
          "metadata": {},
          "execution_count": 11
        }
      ]
    },
    {
      "cell_type": "code",
      "source": [
        "class Vehicle:\n",
        "  def __init__(self,audi,cost):\n",
        "    self.audi = audi\n",
        "    self.cost = cost\n",
        "  def show_vehicle_details(self):\n",
        "    print('The audi of the vehicle is',self.audi)\n",
        "    print('The cost of vehicle is',self.cost)\n",
        "\n"
      ],
      "metadata": {
        "id": "N9BZEs62dWRX"
      },
      "execution_count": 10,
      "outputs": []
    },
    {
      "cell_type": "code",
      "source": [
        "class Car(Vehicle):\n",
        "  def show_car_details(self):\n",
        "    print('i am a car')"
      ],
      "metadata": {
        "id": "nMXVbRxOgQl8"
      },
      "execution_count": 11,
      "outputs": []
    },
    {
      "cell_type": "code",
      "source": [
        "c1 = Car(500,900)"
      ],
      "metadata": {
        "id": "adbQptWqQRPS"
      },
      "execution_count": 13,
      "outputs": []
    },
    {
      "cell_type": "code",
      "source": [
        "c1.show_vehicle_details()"
      ],
      "metadata": {
        "colab": {
          "base_uri": "https://localhost:8080/"
        },
        "id": "FmYq_AAfQau9",
        "outputId": "8aac311f-233c-411c-a71f-e4ad0eace397"
      },
      "execution_count": 14,
      "outputs": [
        {
          "output_type": "stream",
          "name": "stdout",
          "text": [
            "The audi of the vehicle is 500\n",
            "The cost of vehicle is 900\n"
          ]
        }
      ]
    }
  ]
}