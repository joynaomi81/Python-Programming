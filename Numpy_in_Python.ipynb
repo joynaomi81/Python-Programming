{
  "nbformat": 4,
  "nbformat_minor": 0,
  "metadata": {
    "colab": {
      "provenance": [],
      "authorship_tag": "ABX9TyOH336in9AjIR5VLV4VFVtn",
      "include_colab_link": true
    },
    "kernelspec": {
      "name": "python3",
      "display_name": "Python 3"
    },
    "language_info": {
      "name": "python"
    }
  },
  "cells": [
    {
      "cell_type": "markdown",
      "metadata": {
        "id": "view-in-github",
        "colab_type": "text"
      },
      "source": [
        "<a href=\"https://colab.research.google.com/github/joynaomi81/Python-Programming/blob/main/Numpy_in_Python.ipynb\" target=\"_parent\"><img src=\"https://colab.research.google.com/assets/colab-badge.svg\" alt=\"Open In Colab\"/></a>"
      ]
    },
    {
      "cell_type": "markdown",
      "source": [
        "* NumPy is a Python library.\n",
        "* NumPy stands for Numerical Python.\n"
      ],
      "metadata": {
        "id": "8plMDJzPgLAo"
      }
    },
    {
      "cell_type": "code",
      "execution_count": 1,
      "metadata": {
        "id": "pzBAH21kfxUs"
      },
      "outputs": [],
      "source": [
        "import numpy as np"
      ]
    },
    {
      "cell_type": "markdown",
      "source": [
        "1-D Arrays"
      ],
      "metadata": {
        "id": "GRwai7Y6iEKN"
      }
    },
    {
      "cell_type": "code",
      "source": [
        "a = numpy.array([1, 2, 3, 4, 5])\n",
        "\n",
        "print(a)"
      ],
      "metadata": {
        "colab": {
          "base_uri": "https://localhost:8080/"
        },
        "id": "3VMb13ZXhSp-",
        "outputId": "74744103-6575-44dd-8b6b-e1d0a3e0b314"
      },
      "execution_count": 4,
      "outputs": [
        {
          "output_type": "stream",
          "name": "stdout",
          "text": [
            "[1 2 3 4 5]\n"
          ]
        }
      ]
    },
    {
      "cell_type": "markdown",
      "source": [
        "2-D Arrays"
      ],
      "metadata": {
        "id": "cpaeP7dXixkp"
      }
    },
    {
      "cell_type": "code",
      "source": [
        "arr = np.array([[1, 2, 3], [4, 5, 6]])\n",
        "\n",
        "print(arr)"
      ],
      "metadata": {
        "colab": {
          "base_uri": "https://localhost:8080/"
        },
        "id": "jqWebWjMiFkh",
        "outputId": "08722c20-e5e7-4996-f24d-852718526ea2"
      },
      "execution_count": 7,
      "outputs": [
        {
          "output_type": "stream",
          "name": "stdout",
          "text": [
            "[[1 2 3]\n",
            " [4 5 6]]\n"
          ]
        }
      ]
    },
    {
      "cell_type": "markdown",
      "source": [
        "3-D arrays"
      ],
      "metadata": {
        "id": "Ae5rrW2Si9W6"
      }
    },
    {
      "cell_type": "code",
      "source": [
        "arr = np.array([[[1, 2, 3], [4, 5, 6]], [[1, 2, 3], [4, 5, 6]]])\n",
        "\n",
        "print(arr)"
      ],
      "metadata": {
        "colab": {
          "base_uri": "https://localhost:8080/"
        },
        "id": "T00_Q5-Diy6T",
        "outputId": "e23779f4-8619-4803-ed56-19c120228d09"
      },
      "execution_count": 8,
      "outputs": [
        {
          "output_type": "stream",
          "name": "stdout",
          "text": [
            "[[[1 2 3]\n",
            "  [4 5 6]]\n",
            "\n",
            " [[1 2 3]\n",
            "  [4 5 6]]]\n"
          ]
        }
      ]
    },
    {
      "cell_type": "markdown",
      "source": [
        "Access Array Elements"
      ],
      "metadata": {
        "id": "oRb_84ouhPIp"
      }
    },
    {
      "cell_type": "code",
      "source": [
        "arr = np.array([1, 2, 3, 4, 5, 6, 7, 8, 9, 10, 11, 12])\n",
        "\n",
        "print(arr[0])"
      ],
      "metadata": {
        "colab": {
          "base_uri": "https://localhost:8080/"
        },
        "id": "OQlE3n6_jsWU",
        "outputId": "14fa00e9-3002-4f0d-96e2-9aac5642e52b"
      },
      "execution_count": 10,
      "outputs": [
        {
          "output_type": "stream",
          "name": "stdout",
          "text": [
            "1\n"
          ]
        }
      ]
    },
    {
      "cell_type": "code",
      "source": [
        "print(arr[2] + arr[3]) # Access the third and fourth elements from the array and add them."
      ],
      "metadata": {
        "colab": {
          "base_uri": "https://localhost:8080/"
        },
        "id": "d-Ajc1C2jsim",
        "outputId": "a38da987-c512-411a-847b-1fa36cb332eb"
      },
      "execution_count": 12,
      "outputs": [
        {
          "output_type": "stream",
          "name": "stdout",
          "text": [
            "7\n"
          ]
        }
      ]
    },
    {
      "cell_type": "markdown",
      "source": [
        "NumPy Array Slicing\n"
      ],
      "metadata": {
        "id": "TS_KSC7mljo9"
      }
    },
    {
      "cell_type": "code",
      "source": [
        "arr = np.array([112, 200, 354, 476, 590, 699, 717])\n",
        "\n",
        "print(arr[1:5])"
      ],
      "metadata": {
        "colab": {
          "base_uri": "https://localhost:8080/"
        },
        "id": "OqJLjbdkjsfC",
        "outputId": "fa2d413f-075c-4148-ebef-5690bdc8c704"
      },
      "execution_count": 13,
      "outputs": [
        {
          "output_type": "stream",
          "name": "stdout",
          "text": [
            "[200 354 476 590]\n"
          ]
        }
      ]
    },
    {
      "cell_type": "code",
      "source": [
        "print(arr[4:]) # Slice elements from index 4 to the end of the array"
      ],
      "metadata": {
        "colab": {
          "base_uri": "https://localhost:8080/"
        },
        "id": "hvBj3XT4mMHi",
        "outputId": "efcbeeaa-f5a9-4647-c0da-103fb9c5ef26"
      },
      "execution_count": 14,
      "outputs": [
        {
          "output_type": "stream",
          "name": "stdout",
          "text": [
            "[590 699 717]\n"
          ]
        }
      ]
    },
    {
      "cell_type": "markdown",
      "source": [
        "NumPy Data Types"
      ],
      "metadata": {
        "id": "5BlhbP7ymiiQ"
      }
    },
    {
      "cell_type": "code",
      "source": [
        "a = np.array([1, 2, 3, 4, 7])\n",
        "\n",
        "print(a.dtype)"
      ],
      "metadata": {
        "colab": {
          "base_uri": "https://localhost:8080/"
        },
        "id": "T_stdZUymhwE",
        "outputId": "e09d5313-c8a0-45d3-c909-c894270a6b38"
      },
      "execution_count": 15,
      "outputs": [
        {
          "output_type": "stream",
          "name": "stdout",
          "text": [
            "int64\n"
          ]
        }
      ]
    },
    {
      "cell_type": "code",
      "source": [
        "a = np.array(['car', 'bus', 'truck'])\n",
        "\n",
        "print(a.dtype)"
      ],
      "metadata": {
        "colab": {
          "base_uri": "https://localhost:8080/"
        },
        "id": "6SL_H_Wlmhsn",
        "outputId": "c8734fe8-42b5-4839-d50e-f4c2656cc81d"
      },
      "execution_count": 18,
      "outputs": [
        {
          "output_type": "stream",
          "name": "stdout",
          "text": [
            "<U5\n"
          ]
        }
      ]
    },
    {
      "cell_type": "markdown",
      "source": [
        "<U5 refers to a Unicode string type in NumPy with a maximum length of 5 characters."
      ],
      "metadata": {
        "id": "s83TbTHonowg"
      }
    },
    {
      "cell_type": "markdown",
      "source": [
        "Shape of an Array"
      ],
      "metadata": {
        "id": "Kh8WW_2JoK79"
      }
    },
    {
      "cell_type": "code",
      "source": [
        "print(a.shape)"
      ],
      "metadata": {
        "colab": {
          "base_uri": "https://localhost:8080/"
        },
        "id": "6w0WFQY8mSYQ",
        "outputId": "81412c7e-7ecf-4a26-bf23-02a9ec277728"
      },
      "execution_count": 19,
      "outputs": [
        {
          "output_type": "stream",
          "name": "stdout",
          "text": [
            "(3,)\n"
          ]
        }
      ]
    },
    {
      "cell_type": "code",
      "source": [
        "print(a.size)"
      ],
      "metadata": {
        "colab": {
          "base_uri": "https://localhost:8080/"
        },
        "id": "k71YQ0OpmSU-",
        "outputId": "b43cf1ea-3c7f-4113-a283-f6581ee25e35"
      },
      "execution_count": 20,
      "outputs": [
        {
          "output_type": "stream",
          "name": "stdout",
          "text": [
            "3\n"
          ]
        }
      ]
    },
    {
      "cell_type": "code",
      "source": [
        "arr = np.array([1, 2, 3, 4, 5, 6, 7, 8, 9, 10, 11, 12])\n",
        "\n",
        "newarr = arr.reshape(4, 3)\n",
        "\n",
        "print(newarr)"
      ],
      "metadata": {
        "colab": {
          "base_uri": "https://localhost:8080/"
        },
        "id": "UkL0eBiNmSS0",
        "outputId": "e4e85cb1-27ea-4180-8766-a5c06ad66bde"
      },
      "execution_count": 21,
      "outputs": [
        {
          "output_type": "stream",
          "name": "stdout",
          "text": [
            "[[ 1  2  3]\n",
            " [ 4  5  6]\n",
            " [ 7  8  9]\n",
            " [10 11 12]]\n"
          ]
        }
      ]
    },
    {
      "cell_type": "code",
      "source": [
        "arr = np.array(['apple', 'banana', 'cherry', 'watermelon', 'orange', 'mango'])\n",
        "\n",
        "print(arr.dtype)\n",
        "\n",
        "newarr = arr.reshape(2, 3)\n",
        "\n",
        "print(newarr)"
      ],
      "metadata": {
        "colab": {
          "base_uri": "https://localhost:8080/"
        },
        "id": "BGJZc3tomSLE",
        "outputId": "a5ea7f39-46b8-4396-9a9b-0e2ed20f6b8e"
      },
      "execution_count": 23,
      "outputs": [
        {
          "output_type": "stream",
          "name": "stdout",
          "text": [
            "<U10\n",
            "[['apple' 'banana' 'cherry']\n",
            " ['watermelon' 'orange' 'mango']]\n"
          ]
        }
      ]
    },
    {
      "cell_type": "markdown",
      "source": [
        "Iterating Arrays"
      ],
      "metadata": {
        "id": "ZLOJA-dAqdMW"
      }
    },
    {
      "cell_type": "code",
      "source": [
        "arr = np.array([[1.4, 2.5, 3.4], [4.5, 5.5, 6.7]])\n",
        "\n",
        "for x in arr:\n",
        "  print(x)"
      ],
      "metadata": {
        "colab": {
          "base_uri": "https://localhost:8080/"
        },
        "id": "tyaxlYfGqQaj",
        "outputId": "336bdb7a-3e1c-43d6-8791-db0528bc492a"
      },
      "execution_count": 25,
      "outputs": [
        {
          "output_type": "stream",
          "name": "stdout",
          "text": [
            "[1.4 2.5 3.4]\n",
            "[4.5 5.5 6.7]\n"
          ]
        }
      ]
    },
    {
      "cell_type": "code",
      "source": [
        "arr = np. array([['apple', 'banana', 'cherry'], ['watermelon', 'orange', 'mango']])\n",
        "\n",
        "for x in arr:\n",
        "  print(x)"
      ],
      "metadata": {
        "colab": {
          "base_uri": "https://localhost:8080/"
        },
        "id": "brO1g70dqg1y",
        "outputId": "445ce605-a9ca-4e7b-b6e4-d882e7737550"
      },
      "execution_count": 26,
      "outputs": [
        {
          "output_type": "stream",
          "name": "stdout",
          "text": [
            "['apple' 'banana' 'cherry']\n",
            "['watermelon' 'orange' 'mango']\n"
          ]
        }
      ]
    },
    {
      "cell_type": "markdown",
      "source": [
        "Joining NumPy Arrays"
      ],
      "metadata": {
        "id": "C7KV1f9YmLr8"
      }
    },
    {
      "source": [
        "arr = np. array([['apple', 'banana', 'cherry'], ['watermelon', 'orange', 'mango']])\n",
        "\n",
        "arr2 = np.array([[1,2,3], [5,6,7]])\n",
        "\n",
        "arr3 = np.concatenate((arr, arr2))\n",
        "\n",
        "print(arr3)"
      ],
      "cell_type": "code",
      "metadata": {
        "colab": {
          "base_uri": "https://localhost:8080/"
        },
        "id": "ftDX9az9rcy4",
        "outputId": "6226d17c-e9d5-4b1e-a2a7-2d7db72a8de3"
      },
      "execution_count": 30,
      "outputs": [
        {
          "output_type": "stream",
          "name": "stdout",
          "text": [
            "[['apple' 'banana' 'cherry']\n",
            " ['watermelon' 'orange' 'mango']\n",
            " ['1' '2' '3']\n",
            " ['5' '6' '7']]\n"
          ]
        }
      ]
    },
    {
      "cell_type": "markdown",
      "source": [
        "Splitting NumPy Arrays"
      ],
      "metadata": {
        "id": "fG0swU0LsCzp"
      }
    },
    {
      "cell_type": "code",
      "source": [
        "arr = np.array([1, 2, 3, 4, 5, 6, 7, 8 ,9 ,10])\n",
        "\n",
        "newarr = np.array_split(arr, 3)\n",
        "\n",
        "print(newarr)\n"
      ],
      "metadata": {
        "colab": {
          "base_uri": "https://localhost:8080/"
        },
        "id": "ktV-EITQsFTK",
        "outputId": "d748861a-9f2c-4a2f-bab3-50e4ce2febb1"
      },
      "execution_count": 31,
      "outputs": [
        {
          "output_type": "stream",
          "name": "stdout",
          "text": [
            "[array([1, 2, 3, 4]), array([5, 6, 7]), array([ 8,  9, 10])]\n"
          ]
        }
      ]
    },
    {
      "cell_type": "markdown",
      "source": [
        "Line Spacing"
      ],
      "metadata": {
        "id": "kfU-n7OlsqEw"
      }
    },
    {
      "cell_type": "code",
      "source": [
        "arr = np.linspace(1, 5, 20)\n",
        "\n",
        "print(arr)"
      ],
      "metadata": {
        "colab": {
          "base_uri": "https://localhost:8080/"
        },
        "id": "7JBl8DWrsR4j",
        "outputId": "b6fcef82-c6ce-411f-beab-152744d54783"
      },
      "execution_count": 33,
      "outputs": [
        {
          "output_type": "stream",
          "name": "stdout",
          "text": [
            "[1.         1.21052632 1.42105263 1.63157895 1.84210526 2.05263158\n",
            " 2.26315789 2.47368421 2.68421053 2.89473684 3.10526316 3.31578947\n",
            " 3.52631579 3.73684211 3.94736842 4.15789474 4.36842105 4.57894737\n",
            " 4.78947368 5.        ]\n"
          ]
        }
      ]
    },
    {
      "cell_type": "markdown",
      "source": [
        "* Min\n",
        "* Max\n",
        "* Sum"
      ],
      "metadata": {
        "id": "0kN0ianFtIow"
      }
    },
    {
      "cell_type": "code",
      "source": [
        "a = np.array([1, 2, 3, 4, 5, 6, 7, 8, 9, 10])\n",
        "\n",
        "print(a.min())\n",
        "print(a.max())\n",
        "print(a.sum())\n",
        "\n"
      ],
      "metadata": {
        "colab": {
          "base_uri": "https://localhost:8080/"
        },
        "id": "Pg_R8m4BtDa8",
        "outputId": "ffa2ccd8-fdab-4fe3-f504-11b37e479eda"
      },
      "execution_count": 34,
      "outputs": [
        {
          "output_type": "stream",
          "name": "stdout",
          "text": [
            "1\n",
            "10\n",
            "55\n"
          ]
        }
      ]
    },
    {
      "cell_type": "markdown",
      "source": [
        "Sorting Arrays"
      ],
      "metadata": {
        "id": "6MbiaXrDuIZN"
      }
    },
    {
      "cell_type": "code",
      "source": [
        "arr = np.array([1, 2, 4, 3, 6, 5])\n",
        "print(np.sort(arr))"
      ],
      "metadata": {
        "colab": {
          "base_uri": "https://localhost:8080/"
        },
        "id": "GFZJBRHpuJSH",
        "outputId": "7b31c85d-6611-4946-da23-5db03b0a2102"
      },
      "execution_count": 36,
      "outputs": [
        {
          "output_type": "stream",
          "name": "stdout",
          "text": [
            "[1 2 3 4 5 6]\n"
          ]
        }
      ]
    },
    {
      "cell_type": "code",
      "source": [
        "arr = np.array(['banana', 'cherry', 'apple', 'mango'])\n",
        "\n",
        "print(np.sort(arr))"
      ],
      "metadata": {
        "colab": {
          "base_uri": "https://localhost:8080/"
        },
        "id": "1n9byt-yugnB",
        "outputId": "2fbcf874-df5c-4683-ed5c-da76cdf44ee1"
      },
      "execution_count": 38,
      "outputs": [
        {
          "output_type": "stream",
          "name": "stdout",
          "text": [
            "['apple' 'banana' 'cherry' 'mango']\n"
          ]
        }
      ]
    },
    {
      "cell_type": "code",
      "source": [],
      "metadata": {
        "id": "UWtjW9tbur_7"
      },
      "execution_count": null,
      "outputs": []
    }
  ]
}