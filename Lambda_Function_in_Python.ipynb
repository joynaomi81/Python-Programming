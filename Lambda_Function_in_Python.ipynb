{
  "nbformat": 4,
  "nbformat_minor": 0,
  "metadata": {
    "colab": {
      "provenance": [],
      "authorship_tag": "ABX9TyOQIgdW8r4upJdPNt5Jj53T",
      "include_colab_link": true
    },
    "kernelspec": {
      "name": "python3",
      "display_name": "Python 3"
    },
    "language_info": {
      "name": "python"
    }
  },
  "cells": [
    {
      "cell_type": "markdown",
      "metadata": {
        "id": "view-in-github",
        "colab_type": "text"
      },
      "source": [
        "<a href=\"https://colab.research.google.com/github/joynaomi81/Python-Programming/blob/main/Lambda_Function_in_Python.ipynb\" target=\"_parent\"><img src=\"https://colab.research.google.com/assets/colab-badge.svg\" alt=\"Open In Colab\"/></a>"
      ]
    },
    {
      "cell_type": "markdown",
      "source": [
        "Lambda function can only evaluate one expression\n",
        "* lambda arguments : expression"
      ],
      "metadata": {
        "id": "HNiZ9D2yo7ic"
      }
    },
    {
      "cell_type": "code",
      "execution_count": null,
      "metadata": {
        "colab": {
          "base_uri": "https://localhost:8080/"
        },
        "id": "z9OA0T_Fn3oQ",
        "outputId": "9b8e09de-31fc-4973-9302-c987fb258b90"
      },
      "outputs": [
        {
          "output_type": "stream",
          "name": "stdout",
          "text": [
            "18\n"
          ]
        }
      ],
      "source": [
        "add = lambda x,y : x+y\n",
        "print(add(10,8))"
      ]
    },
    {
      "cell_type": "code",
      "source": [
        "(lambda a,b : a //b)(10,2)"
      ],
      "metadata": {
        "colab": {
          "base_uri": "https://localhost:8080/"
        },
        "id": "CfhtB8j2oqLf",
        "outputId": "0165dea2-4af1-42ff-98cf-e23c52032269"
      },
      "execution_count": null,
      "outputs": [
        {
          "output_type": "execute_result",
          "data": {
            "text/plain": [
              "5"
            ]
          },
          "metadata": {},
          "execution_count": 4
        }
      ]
    },
    {
      "cell_type": "markdown",
      "source": [
        "This creates a lambda function that takes two arguments (a and b), performs floor division (a // b), and immediately calls the function with 10 and 2 as inputs. It returns 5."
      ],
      "metadata": {
        "id": "IQVFbLqvrGdl"
      }
    },
    {
      "cell_type": "code",
      "source": [
        "(lambda a,b : a + b)(10,2) # Addition"
      ],
      "metadata": {
        "colab": {
          "base_uri": "https://localhost:8080/"
        },
        "id": "Japme72ZsSLV",
        "outputId": "ee3c8f67-165e-41d4-f09f-ec9857ea29a1"
      },
      "execution_count": null,
      "outputs": [
        {
          "output_type": "execute_result",
          "data": {
            "text/plain": [
              "12"
            ]
          },
          "metadata": {},
          "execution_count": 7
        }
      ]
    },
    {
      "cell_type": "code",
      "source": [
        "(lambda a,b : a*b)(100,2) # Multiplication"
      ],
      "metadata": {
        "colab": {
          "base_uri": "https://localhost:8080/"
        },
        "id": "TlJfcL6qrg28",
        "outputId": "3bdb738a-2ecd-4fa4-a24c-65dcf6186141"
      },
      "execution_count": null,
      "outputs": [
        {
          "output_type": "execute_result",
          "data": {
            "text/plain": [
              "200"
            ]
          },
          "metadata": {},
          "execution_count": 6
        }
      ]
    },
    {
      "cell_type": "markdown",
      "source": [
        "Keyword arguments with lambda function"
      ],
      "metadata": {
        "id": "B2-HadW0t8t6"
      }
    },
    {
      "cell_type": "code",
      "source": [
        "# Define a lambda function that takes keyword argument\n",
        "shape = lambda x, y, z: x*y*z\n",
        "print(shape(x = 5, y = 15, z = 30))"
      ],
      "metadata": {
        "colab": {
          "base_uri": "https://localhost:8080/"
        },
        "id": "wvOCk_u9uAkN",
        "outputId": "fd11e74c-a04e-4600-ee5b-d51247de46be"
      },
      "execution_count": null,
      "outputs": [
        {
          "output_type": "stream",
          "name": "stdout",
          "text": [
            "2250\n"
          ]
        }
      ]
    },
    {
      "cell_type": "markdown",
      "source": [
        "Default arguments with lambda"
      ],
      "metadata": {
        "id": "AQtAjHwFvR7r"
      }
    },
    {
      "cell_type": "code",
      "source": [
        "add = lambda x,y = 10, z = 20: x+y+z\n",
        "print(add(20))"
      ],
      "metadata": {
        "colab": {
          "base_uri": "https://localhost:8080/"
        },
        "id": "LfHF9d5FvO2d",
        "outputId": "5477bd58-5733-4617-c582-0a7ecb9c4ab0"
      },
      "execution_count": null,
      "outputs": [
        {
          "output_type": "stream",
          "name": "stdout",
          "text": [
            "50\n"
          ]
        }
      ]
    },
    {
      "cell_type": "markdown",
      "source": [
        "*args parameter with a lambda function"
      ],
      "metadata": {
        "id": "N7Fh4VvOw8sv"
      }
    },
    {
      "cell_type": "code",
      "source": [
        "addition = lambda *args : sum(args)\n",
        "print(addition(10,20,30,40,50))"
      ],
      "metadata": {
        "colab": {
          "base_uri": "https://localhost:8080/"
        },
        "id": "byGwKbLrwPGJ",
        "outputId": "858b17c8-6b36-495f-9194-88c34a0e1034"
      },
      "execution_count": null,
      "outputs": [
        {
          "output_type": "stream",
          "name": "stdout",
          "text": [
            "150\n"
          ]
        }
      ]
    },
    {
      "cell_type": "markdown",
      "source": [
        "Substring Check Using a Lambda Function"
      ],
      "metadata": {
        "id": "5N1I2hGzzjT-"
      }
    },
    {
      "cell_type": "code",
      "source": [
        "sub_string = lambda string: string in \"My name is Joy\"\n",
        "print(sub_string(\"Joy\"))"
      ],
      "metadata": {
        "colab": {
          "base_uri": "https://localhost:8080/"
        },
        "id": "ZO1xaxt7yr2A",
        "outputId": "186e73b3-d0cc-4fbb-8e23-1d162c9222d6"
      },
      "execution_count": null,
      "outputs": [
        {
          "output_type": "stream",
          "name": "stdout",
          "text": [
            "True\n"
          ]
        }
      ]
    },
    {
      "cell_type": "code",
      "source": [
        "print(sub_string(\"cat\"))"
      ],
      "metadata": {
        "colab": {
          "base_uri": "https://localhost:8080/"
        },
        "id": "4OufV4d1y_04",
        "outputId": "58704d3f-7ccf-4dbf-a413-92d91e53ec22"
      },
      "execution_count": null,
      "outputs": [
        {
          "output_type": "stream",
          "name": "stdout",
          "text": [
            "False\n"
          ]
        }
      ]
    },
    {
      "cell_type": "markdown",
      "source": [
        "\"cat\" is not part of the string = False"
      ],
      "metadata": {
        "id": "UCrQZzr5zvx6"
      }
    },
    {
      "cell_type": "markdown",
      "source": [
        "Filtering Elements from a List Using Lambda and Filter"
      ],
      "metadata": {
        "id": "R4rlxJEr1w_o"
      }
    },
    {
      "cell_type": "code",
      "source": [
        "number = [10, 90, 80, 70, 60, 50, 40, 30, 20, 10]\n",
        "\n",
        "greater = list(filter(lambda number: number > 50, number))\n",
        "print(greater)"
      ],
      "metadata": {
        "colab": {
          "base_uri": "https://localhost:8080/"
        },
        "id": "8Dw2TO28z6YH",
        "outputId": "97f9e7ca-b7e6-4e64-c5f2-6045788a0205"
      },
      "execution_count": null,
      "outputs": [
        {
          "output_type": "stream",
          "name": "stdout",
          "text": [
            "[90, 80, 70, 60]\n"
          ]
        }
      ]
    },
    {
      "cell_type": "code",
      "source": [
        "# Filtering Numbers Divisible by 4 from a List Using Lambda and Filter\"\n",
        "list1 = [10, 20, 30, 40, 50, 60, 70, 80, 90, 100]\n",
        "divide = list(filter(lambda x: x % 4 == 0, list1))\n",
        "print(divide)"
      ],
      "metadata": {
        "colab": {
          "base_uri": "https://localhost:8080/"
        },
        "id": "5aPaXa7u167b",
        "outputId": "64faf6d4-2bd0-443c-9a22-12f4f106dfa9"
      },
      "execution_count": null,
      "outputs": [
        {
          "output_type": "stream",
          "name": "stdout",
          "text": [
            "[20, 40, 60, 80, 100]\n"
          ]
        }
      ]
    }
  ]
}