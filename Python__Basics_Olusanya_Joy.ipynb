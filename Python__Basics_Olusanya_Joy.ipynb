{
  "nbformat": 4,
  "nbformat_minor": 0,
  "metadata": {
    "colab": {
      "provenance": [],
      "include_colab_link": true
    },
    "kernelspec": {
      "name": "python3",
      "display_name": "Python 3"
    },
    "language_info": {
      "name": "python"
    }
  },
  "cells": [
    {
      "cell_type": "markdown",
      "metadata": {
        "id": "view-in-github",
        "colab_type": "text"
      },
      "source": [
        "<a href=\"https://colab.research.google.com/github/joynaomi81/Python-Programming/blob/main/Python__Basics_Olusanya_Joy.ipynb\" target=\"_parent\"><img src=\"https://colab.research.google.com/assets/colab-badge.svg\" alt=\"Open In Colab\"/></a>"
      ]
    },
    {
      "cell_type": "code",
      "source": [
        "#Function that takes a lists of integers as input and returns the sum of all the integers in the list\n",
        "def even_sum(numbers):\n",
        "    return sum(i for i in numbers if i % 2 == 0)\n",
        "\n",
        "result = even_sum([1, 2, 3, 4, 5])\n",
        "print(result)\n"
      ],
      "metadata": {
        "colab": {
          "base_uri": "https://localhost:8080/"
        },
        "id": "V5_YU8uQ99co",
        "outputId": "cba5578f-3464-4261-f04f-3f55427cd64e"
      },
      "execution_count": null,
      "outputs": [
        {
          "output_type": "stream",
          "name": "stdout",
          "text": [
            "6\n"
          ]
        }
      ]
    },
    {
      "cell_type": "code",
      "source": [
        "#Functions that takes a string as input and returns the number of vowels in the string\n",
        "def count_vowels(input_string):\n",
        "    vowels = ['a','e''i','o','u''A','E','I','O','U']\n",
        "    count = 0\n",
        "\n",
        "    for i in input_string:\n",
        "       if i in vowels:\n",
        "            count += 1\n",
        "\n",
        "    return count\n",
        "\n"
      ],
      "metadata": {
        "id": "tEKuo69n48J1"
      },
      "execution_count": null,
      "outputs": []
    },
    {
      "cell_type": "code",
      "source": [
        "input_str = \"Hello, World!\"\n",
        "result = count_vowels(input_str)\n",
        "count_vowels(input_str)"
      ],
      "metadata": {
        "colab": {
          "base_uri": "https://localhost:8080/"
        },
        "id": "eWfMD-uz6e6P",
        "outputId": "53079543-58db-4f20-b236-5a757c3366dd"
      },
      "execution_count": null,
      "outputs": [
        {
          "output_type": "execute_result",
          "data": {
            "text/plain": [
              "2"
            ]
          },
          "metadata": {},
          "execution_count": 3
        }
      ]
    },
    {
      "cell_type": "code",
      "source": [
        "count_vowels('Football')"
      ],
      "metadata": {
        "colab": {
          "base_uri": "https://localhost:8080/"
        },
        "id": "XOcd5UT17Apt",
        "outputId": "dbfb7d00-0452-4d93-f825-3472b3983880"
      },
      "execution_count": null,
      "outputs": [
        {
          "output_type": "execute_result",
          "data": {
            "text/plain": [
              "3"
            ]
          },
          "metadata": {},
          "execution_count": 4
        }
      ]
    },
    {
      "cell_type": "code",
      "source": [
        "#function that takes two integers num1 and num2 as input and returns the larger of the two numbers\n",
        "def find_larger(num1, num2):\n",
        "    return max(num1, num2)\n",
        "\n",
        "# Example usage:\n",
        "number1 = 30\n",
        "number2 = 20\n",
        "larger_number = find_larger(number1, number2)\n",
        "find_larger(number1,number2)\n"
      ],
      "metadata": {
        "colab": {
          "base_uri": "https://localhost:8080/"
        },
        "id": "BpdXA7Mp7R_8",
        "outputId": "8541818d-d60c-425c-cc5e-81166e4a907f"
      },
      "execution_count": null,
      "outputs": [
        {
          "output_type": "execute_result",
          "data": {
            "text/plain": [
              "30"
            ]
          },
          "metadata": {},
          "execution_count": 5
        }
      ]
    },
    {
      "cell_type": "code",
      "source": [
        "#Function that takes a list of strings as input and returns a new list containing all strings longer than 5 characters.\n",
        "def filter_long_strings(input_list):\n",
        "    return [string for string in input_list if len(string) > 5]\n",
        "\n",
        "string_list = [\"January\", \"February\", \"March\", \"April\",  \"May\", \"June\", \"July\", \"August\", \"September\",\"October\",  \"November\",\"December\"]\n",
        "result = filter_long_strings(string_list)\n",
        "filter_long_strings(string_list)\n"
      ],
      "metadata": {
        "colab": {
          "base_uri": "https://localhost:8080/"
        },
        "id": "bb109ugeDcJD",
        "outputId": "df8e7fff-7a50-40ae-fa2c-2f938e881a91"
      },
      "execution_count": null,
      "outputs": [
        {
          "output_type": "execute_result",
          "data": {
            "text/plain": [
              "['January',\n",
              " 'February',\n",
              " 'August',\n",
              " 'September',\n",
              " 'October',\n",
              " 'November',\n",
              " 'December']"
            ]
          },
          "metadata": {},
          "execution_count": 6
        }
      ]
    },
    {
      "cell_type": "code",
      "source": [
        "#Write a function that takes a list of integers and sorts them in descending order. Return the sorted list\n",
        "def sort_descending(input_list):\n",
        "    return sorted(input_list, reverse=True)\n",
        "\n",
        "integer_list = [10, 3, 6, 12, 17]\n",
        "result = sort_descending(integer_list)\n",
        "sort_descending(integer_list)\n"
      ],
      "metadata": {
        "colab": {
          "base_uri": "https://localhost:8080/"
        },
        "id": "bhKv5y0pGIVV",
        "outputId": "1dc4eeff-a7b6-4bbe-af35-32f0d9e4e3aa"
      },
      "execution_count": null,
      "outputs": [
        {
          "output_type": "execute_result",
          "data": {
            "text/plain": [
              "[17, 12, 10, 6, 3]"
            ]
          },
          "metadata": {},
          "execution_count": 3
        }
      ]
    },
    {
      "cell_type": "code",
      "source": [
        "str_Bukola = 'Bukola'"
      ],
      "metadata": {
        "id": "OgdRFu1KOGV4"
      },
      "execution_count": null,
      "outputs": []
    }
  ]
}