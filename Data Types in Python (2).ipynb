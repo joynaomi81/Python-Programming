{
 "cells": [
  {
   "cell_type": "markdown",
   "id": "ce22cc89",
   "metadata": {},
   "source": [
    "#### There are three types of Numeric Data Types\n",
    "#### Integers, floating-point , and complex numbers."
   ]
  },
  {
   "cell_type": "markdown",
   "id": "017bd70e",
   "metadata": {},
   "source": [
    "## Integers"
   ]
  },
  {
   "cell_type": "code",
   "execution_count": 2,
   "id": "594bd199",
   "metadata": {},
   "outputs": [],
   "source": [
    "# An integer is a whole number whether it is zero, positive or negative"
   ]
  },
  {
   "cell_type": "code",
   "execution_count": 11,
   "id": "a592ab72",
   "metadata": {},
   "outputs": [
    {
     "data": {
      "text/plain": [
       "int"
      ]
     },
     "execution_count": 11,
     "metadata": {},
     "output_type": "execute_result"
    }
   ],
   "source": [
    "type(18)"
   ]
  },
  {
   "cell_type": "code",
   "execution_count": 7,
   "id": "5617911b",
   "metadata": {},
   "outputs": [
    {
     "data": {
      "text/plain": [
       "int"
      ]
     },
     "execution_count": 7,
     "metadata": {},
     "output_type": "execute_result"
    }
   ],
   "source": [
    "type(14)"
   ]
  },
  {
   "cell_type": "code",
   "execution_count": 5,
   "id": "2d5841af",
   "metadata": {},
   "outputs": [
    {
     "data": {
      "text/plain": [
       "int"
      ]
     },
     "execution_count": 5,
     "metadata": {},
     "output_type": "execute_result"
    }
   ],
   "source": [
    "type(0)"
   ]
  },
  {
   "cell_type": "code",
   "execution_count": 6,
   "id": "53e2a495",
   "metadata": {},
   "outputs": [
    {
     "data": {
      "text/plain": [
       "int"
      ]
     },
     "execution_count": 6,
     "metadata": {},
     "output_type": "execute_result"
    }
   ],
   "source": [
    "type(1)"
   ]
  },
  {
   "cell_type": "code",
   "execution_count": 36,
   "id": "e37b306d",
   "metadata": {},
   "outputs": [
    {
     "data": {
      "text/plain": [
       "702"
      ]
     },
     "execution_count": 36,
     "metadata": {},
     "output_type": "execute_result"
    }
   ],
   "source": [
    "2+700"
   ]
  },
  {
   "cell_type": "code",
   "execution_count": 8,
   "id": "5fec2249",
   "metadata": {},
   "outputs": [],
   "source": [
    "#negative integers"
   ]
  },
  {
   "cell_type": "code",
   "execution_count": null,
   "id": "f1296480",
   "metadata": {},
   "outputs": [],
   "source": []
  },
  {
   "cell_type": "code",
   "execution_count": 9,
   "id": "70ebeca9",
   "metadata": {},
   "outputs": [
    {
     "data": {
      "text/plain": [
       "int"
      ]
     },
     "execution_count": 9,
     "metadata": {},
     "output_type": "execute_result"
    }
   ],
   "source": [
    "type(-12)"
   ]
  },
  {
   "cell_type": "code",
   "execution_count": 10,
   "id": "021dd63d",
   "metadata": {},
   "outputs": [
    {
     "data": {
      "text/plain": [
       "int"
      ]
     },
     "execution_count": 10,
     "metadata": {},
     "output_type": "execute_result"
    }
   ],
   "source": [
    "type(-5)"
   ]
  },
  {
   "cell_type": "markdown",
   "id": "d21044d2",
   "metadata": {},
   "source": [
    "# floating-point"
   ]
  },
  {
   "cell_type": "markdown",
   "id": "337cbbed",
   "metadata": {},
   "source": [
    "### A floating-point number is a positive or negative number with a decimal point"
   ]
  },
  {
   "cell_type": "code",
   "execution_count": 13,
   "id": "d02755cf",
   "metadata": {},
   "outputs": [
    {
     "data": {
      "text/plain": [
       "float"
      ]
     },
     "execution_count": 13,
     "metadata": {},
     "output_type": "execute_result"
    }
   ],
   "source": [
    "type(12.0 + 13)"
   ]
  },
  {
   "cell_type": "code",
   "execution_count": 15,
   "id": "5484f7bf",
   "metadata": {},
   "outputs": [
    {
     "data": {
      "text/plain": [
       "float"
      ]
     },
     "execution_count": 15,
     "metadata": {},
     "output_type": "execute_result"
    }
   ],
   "source": [
    "type(13.9 + 19.9)"
   ]
  },
  {
   "cell_type": "markdown",
   "id": "edb22d25",
   "metadata": {},
   "source": [
    "# complex number"
   ]
  },
  {
   "cell_type": "markdown",
   "id": "f5367eb0",
   "metadata": {},
   "source": [
    "### A complex number data type is used for imaginary number \"j\""
   ]
  },
  {
   "cell_type": "markdown",
   "id": "dd10788b",
   "metadata": {},
   "source": [
    "type(12.0+ 4j)"
   ]
  },
  {
   "cell_type": "markdown",
   "id": "6a8447b2",
   "metadata": {},
   "source": [
    "# Boolean "
   ]
  },
  {
   "cell_type": "code",
   "execution_count": 23,
   "id": "42ac04e3",
   "metadata": {},
   "outputs": [],
   "source": [
    "# Boolean data type represent values that are either true or false "
   ]
  },
  {
   "cell_type": "code",
   "execution_count": 24,
   "id": "f6428a45",
   "metadata": {},
   "outputs": [
    {
     "data": {
      "text/plain": [
       "False"
      ]
     },
     "execution_count": 24,
     "metadata": {},
     "output_type": "execute_result"
    }
   ],
   "source": [
    "1>3"
   ]
  },
  {
   "cell_type": "code",
   "execution_count": 25,
   "id": "533e3eb3",
   "metadata": {},
   "outputs": [
    {
     "data": {
      "text/plain": [
       "True"
      ]
     },
     "execution_count": 25,
     "metadata": {},
     "output_type": "execute_result"
    }
   ],
   "source": [
    "3>2"
   ]
  },
  {
   "cell_type": "code",
   "execution_count": 27,
   "id": "b72d1ace",
   "metadata": {},
   "outputs": [
    {
     "data": {
      "text/plain": [
       "bool"
      ]
     },
     "execution_count": 27,
     "metadata": {},
     "output_type": "execute_result"
    }
   ],
   "source": [
    "type(3>6)"
   ]
  },
  {
   "cell_type": "markdown",
   "id": "763687e3",
   "metadata": {},
   "source": [
    "# Sequence data types"
   ]
  },
  {
   "cell_type": "markdown",
   "id": "fda09abd",
   "metadata": {},
   "source": [
    "### Sequence data types. There are three types of sequence data types\n",
    "### Lists, turples and strings"
   ]
  },
  {
   "cell_type": "markdown",
   "id": "62de8067",
   "metadata": {},
   "source": [
    "#### A string is a sequence of characters enclosed in either single quotes (''), double quotes(\"\") or triple quotes(\"\"\"\"\"\")"
   ]
  },
  {
   "cell_type": "code",
   "execution_count": 35,
   "id": "c1b25689",
   "metadata": {},
   "outputs": [
    {
     "name": "stdout",
     "output_type": "stream",
     "text": [
      "Joy\n"
     ]
    }
   ],
   "source": [
    "Warrior_Queen = \"Joy\"\n",
    "print(Warrior_Queen)"
   ]
  },
  {
   "cell_type": "code",
   "execution_count": 39,
   "id": "87a1cb81",
   "metadata": {},
   "outputs": [],
   "source": [
    "#Check for the data types"
   ]
  },
  {
   "cell_type": "code",
   "execution_count": 37,
   "id": "35c8e3e0",
   "metadata": {},
   "outputs": [
    {
     "data": {
      "text/plain": [
       "str"
      ]
     },
     "execution_count": 37,
     "metadata": {},
     "output_type": "execute_result"
    }
   ],
   "source": [
    "type(Warrior_Queen)"
   ]
  },
  {
   "cell_type": "code",
   "execution_count": 38,
   "id": "a50dfa84",
   "metadata": {},
   "outputs": [
    {
     "data": {
      "text/plain": [
       "'Hello,World'"
      ]
     },
     "execution_count": 38,
     "metadata": {},
     "output_type": "execute_result"
    }
   ],
   "source": [
    "\"Hello,World\""
   ]
  },
  {
   "cell_type": "markdown",
   "id": "50a311a7",
   "metadata": {},
   "source": [
    "# lists"
   ]
  },
  {
   "cell_type": "markdown",
   "id": "cbe18df7",
   "metadata": {},
   "source": [
    "### list is a sequence data type that is enclosed in a square bracket"
   ]
  },
  {
   "cell_type": "code",
   "execution_count": 69,
   "id": "feb3dd17",
   "metadata": {},
   "outputs": [
    {
     "name": "stdout",
     "output_type": "stream",
     "text": [
      "['apple', 'mango', 'orange']\n"
     ]
    }
   ],
   "source": [
    "fruits=['apple', 'mango', 'orange']\n",
    "print(fruits)"
   ]
  },
  {
   "cell_type": "code",
   "execution_count": 70,
   "id": "a7bae6cb",
   "metadata": {},
   "outputs": [],
   "source": [
    "#add to lists\n",
    "fruits.append('watermelon')"
   ]
  },
  {
   "cell_type": "code",
   "execution_count": 71,
   "id": "05404207",
   "metadata": {
    "scrolled": true
   },
   "outputs": [
    {
     "name": "stdout",
     "output_type": "stream",
     "text": [
      "['apple', 'mango', 'orange', 'watermelon']\n"
     ]
    }
   ],
   "source": [
    "print(fruits)"
   ]
  },
  {
   "cell_type": "code",
   "execution_count": 72,
   "id": "80c0e8e1",
   "metadata": {},
   "outputs": [],
   "source": [
    "#change list\n",
    "fruits[-1]= 'avocado'"
   ]
  },
  {
   "cell_type": "code",
   "execution_count": 73,
   "id": "db19a71c",
   "metadata": {},
   "outputs": [
    {
     "name": "stdout",
     "output_type": "stream",
     "text": [
      "['apple', 'mango', 'orange', 'avocado']\n"
     ]
    }
   ],
   "source": [
    "print(fruits)"
   ]
  },
  {
   "cell_type": "markdown",
   "id": "0321bdd1",
   "metadata": {},
   "source": [
    "# Turple"
   ]
  },
  {
   "cell_type": "markdown",
   "id": "224a6364",
   "metadata": {},
   "source": [
    "#### Turple data type is very  similar to lists data type, the main difference is that turple is immutable that is they not be change."
   ]
  },
  {
   "cell_type": "code",
   "execution_count": 3,
   "id": "9738e584",
   "metadata": {},
   "outputs": [],
   "source": [
    "book_history = (1990,1770,1890)"
   ]
  },
  {
   "cell_type": "code",
   "execution_count": 4,
   "id": "b63d7e87",
   "metadata": {},
   "outputs": [
    {
     "data": {
      "text/plain": [
       "tuple"
      ]
     },
     "execution_count": 4,
     "metadata": {},
     "output_type": "execute_result"
    }
   ],
   "source": [
    "#data type\n",
    "type(book_history)"
   ]
  },
  {
   "cell_type": "code",
   "execution_count": 10,
   "id": "f6c167ed",
   "metadata": {},
   "outputs": [
    {
     "data": {
      "text/plain": [
       "1890"
      ]
     },
     "execution_count": 10,
     "metadata": {},
     "output_type": "execute_result"
    }
   ],
   "source": [
    "book_history[2]"
   ]
  },
  {
   "cell_type": "code",
   "execution_count": 12,
   "id": "ee914850",
   "metadata": {},
   "outputs": [
    {
     "ename": "AttributeError",
     "evalue": "'tuple' object has no attribute 'append'",
     "output_type": "error",
     "traceback": [
      "\u001b[1;31m---------------------------------------------------------------------------\u001b[0m",
      "\u001b[1;31mAttributeError\u001b[0m                            Traceback (most recent call last)",
      "Cell \u001b[1;32mIn[12], line 1\u001b[0m\n\u001b[1;32m----> 1\u001b[0m book_history\u001b[38;5;241m.\u001b[39mappend(\u001b[38;5;241m1995\u001b[39m)\n",
      "\u001b[1;31mAttributeError\u001b[0m: 'tuple' object has no attribute 'append'"
     ]
    }
   ],
   "source": [
    "book_history.append(1995)"
   ]
  },
  {
   "cell_type": "markdown",
   "id": "800e6106",
   "metadata": {},
   "source": [
    "## The above error means we cannot change or add anything to a turple"
   ]
  },
  {
   "cell_type": "markdown",
   "id": "a57d5a9e",
   "metadata": {},
   "source": [
    "# Dictionaries"
   ]
  },
  {
   "cell_type": "markdown",
   "id": "2976dfa6",
   "metadata": {},
   "source": [
    "### Dictionaries are  changeable data structures used to store data values in key:value pairs."
   ]
  },
  {
   "cell_type": "code",
   "execution_count": 5,
   "id": "348b4b76",
   "metadata": {},
   "outputs": [],
   "source": [
    "student_by_country = {'Joy': 'Nigeria',\n",
    "                 'Naomi': 'Turkey',\n",
    "                  'Mary': 'Chain',\n",
    "                  'Blessing': 'London',}"
   ]
  },
  {
   "cell_type": "code",
   "execution_count": 6,
   "id": "091bdea3",
   "metadata": {},
   "outputs": [
    {
     "name": "stdout",
     "output_type": "stream",
     "text": [
      "{'Joy': 'Nigeria', 'Naomi': 'Turkey', 'Mary': 'Chain', 'Blessing': 'London'}\n"
     ]
    }
   ],
   "source": [
    "print(student_by_country)"
   ]
  },
  {
   "cell_type": "code",
   "execution_count": 9,
   "id": "9dced077",
   "metadata": {},
   "outputs": [
    {
     "data": {
      "text/plain": [
       "dict"
      ]
     },
     "execution_count": 9,
     "metadata": {},
     "output_type": "execute_result"
    }
   ],
   "source": [
    "#check for data type\n",
    "type(student_by_country)"
   ]
  },
  {
   "cell_type": "code",
   "execution_count": 10,
   "id": "04e44da9",
   "metadata": {},
   "outputs": [
    {
     "data": {
      "text/plain": [
       "dict_values(['Nigeria', 'Turkey', 'Chain', 'London'])"
      ]
     },
     "execution_count": 10,
     "metadata": {},
     "output_type": "execute_result"
    }
   ],
   "source": [
    "#All the values within the dict\n",
    "student_by_country.values()"
   ]
  },
  {
   "cell_type": "code",
   "execution_count": 28,
   "id": "4188b3b1",
   "metadata": {},
   "outputs": [
    {
     "data": {
      "text/plain": [
       "dict_keys(['Joy', 'Naomi', 'Mary', 'Blessing'])"
      ]
     },
     "execution_count": 28,
     "metadata": {},
     "output_type": "execute_result"
    }
   ],
   "source": [
    "#All the keys within the dict\n",
    "student_by_country.keys()"
   ]
  },
  {
   "cell_type": "code",
   "execution_count": 23,
   "id": "537c41ff",
   "metadata": {},
   "outputs": [
    {
     "data": {
      "text/plain": [
       "dict_items([('Joy', 'Nigeria'), ('Naomi', 'Turkey'), ('Mary', 'Chain'), ('Blessing', 'London')])"
      ]
     },
     "execution_count": 23,
     "metadata": {},
     "output_type": "execute_result"
    }
   ],
   "source": [
    "student_by_country.items()"
   ]
  },
  {
   "cell_type": "code",
   "execution_count": 26,
   "id": "f5b12a50",
   "metadata": {},
   "outputs": [
    {
     "data": {
      "text/plain": [
       "'Nigeria'"
      ]
     },
     "execution_count": 26,
     "metadata": {},
     "output_type": "execute_result"
    }
   ],
   "source": [
    "student_by_country['Joy']"
   ]
  },
  {
   "cell_type": "code",
   "execution_count": 11,
   "id": "f07a6d8e",
   "metadata": {},
   "outputs": [
    {
     "data": {
      "text/plain": [
       "'London'"
      ]
     },
     "execution_count": 11,
     "metadata": {},
     "output_type": "execute_result"
    }
   ],
   "source": [
    "student_by_country['Blessing']"
   ]
  },
  {
   "cell_type": "code",
   "execution_count": 13,
   "id": "f34182ae",
   "metadata": {},
   "outputs": [
    {
     "name": "stdout",
     "output_type": "stream",
     "text": [
      "{'Joy': 'Ghana', 'Naomi': 'Turkey', 'Mary': 'Chain', 'Blessing': 'London'}\n"
     ]
    }
   ],
   "source": [
    "#To update info in a dictionary \n",
    "student_by_country ['Joy'] = 'Ghana'\n",
    "print(student_by_country)"
   ]
  },
  {
   "cell_type": "code",
   "execution_count": 14,
   "id": "c1e3c29f",
   "metadata": {},
   "outputs": [
    {
     "data": {
      "text/plain": [
       "{'Joy': 'Ghana',\n",
       " 'Naomi': 'Turkey',\n",
       " 'Mary': 'Chain',\n",
       " 'Blessing': 'London',\n",
       " 'Bolu': 'France'}"
      ]
     },
     "execution_count": 14,
     "metadata": {},
     "output_type": "execute_result"
    }
   ],
   "source": [
    "student_by_country.update ({'Joy': 'Ghana',\n",
    "                 'Naomi': 'Turkey',\n",
    "                  'Mary': 'Chain',\n",
    "                  'Blessing': 'London',\n",
    "                           'Bolu': 'France'})\n",
    "student_by_country"
   ]
  },
  {
   "cell_type": "code",
   "execution_count": 15,
   "id": "e5c64441",
   "metadata": {},
   "outputs": [
    {
     "data": {
      "text/plain": [
       "{'Joy': 'Ghana', 'Naomi': 'Turkey', 'Mary': 'Chain', 'Blessing': 'London'}"
      ]
     },
     "execution_count": 15,
     "metadata": {},
     "output_type": "execute_result"
    }
   ],
   "source": [
    "#To delete in a dictionary\n",
    "del student_by_country['Bolu']\n",
    "student_by_country"
   ]
  },
  {
   "cell_type": "code",
   "execution_count": null,
   "id": "6bd7a052",
   "metadata": {},
   "outputs": [],
   "source": []
  }
 ],
 "metadata": {
  "kernelspec": {
   "display_name": "Python 3 (ipykernel)",
   "language": "python",
   "name": "python3"
  },
  "language_info": {
   "codemirror_mode": {
    "name": "ipython",
    "version": 3
   },
   "file_extension": ".py",
   "mimetype": "text/x-python",
   "name": "python",
   "nbconvert_exporter": "python",
   "pygments_lexer": "ipython3",
   "version": "3.11.7"
  }
 },
 "nbformat": 4,
 "nbformat_minor": 5
}
