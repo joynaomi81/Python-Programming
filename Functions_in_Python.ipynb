{
  "nbformat": 4,
  "nbformat_minor": 0,
  "metadata": {
    "colab": {
      "provenance": [],
      "authorship_tag": "ABX9TyMvaZx1fEtMKCUcuX2iMxwL",
      "include_colab_link": true
    },
    "kernelspec": {
      "name": "python3",
      "display_name": "Python 3"
    },
    "language_info": {
      "name": "python"
    }
  },
  "cells": [
    {
      "cell_type": "markdown",
      "metadata": {
        "id": "view-in-github",
        "colab_type": "text"
      },
      "source": [
        "<a href=\"https://colab.research.google.com/github/joynaomi81/Python-Programming/blob/main/Functions_in_Python.ipynb\" target=\"_parent\"><img src=\"https://colab.research.google.com/assets/colab-badge.svg\" alt=\"Open In Colab\"/></a>"
      ]
    },
    {
      "cell_type": "markdown",
      "source": [
        "'def' is the keyword for defining a function"
      ],
      "metadata": {
        "id": "PEqIW4Ykwb2_"
      }
    },
    {
      "source": [
        "def my_name():\n",
        "  print(\"my name is Joy\")\n",
        "  # removed the recursive call to my_name()"
      ],
      "cell_type": "code",
      "metadata": {
        "id": "TXFIxnGY1o2-"
      },
      "execution_count": null,
      "outputs": []
    },
    {
      "cell_type": "code",
      "source": [
        "my_name()"
      ],
      "metadata": {
        "colab": {
          "base_uri": "https://localhost:8080/"
        },
        "id": "u6iS61zI1w6Q",
        "outputId": "632cb373-a722-40cd-a654-e1c9e48a424f"
      },
      "execution_count": null,
      "outputs": [
        {
          "output_type": "stream",
          "name": "stdout",
          "text": [
            "my name is Joy\n"
          ]
        }
      ]
    },
    {
      "cell_type": "code",
      "source": [
        "# Arguments"
      ],
      "metadata": {
        "id": "Bp3gZ7qO2CXm"
      },
      "execution_count": null,
      "outputs": []
    },
    {
      "cell_type": "code",
      "source": [
        "def weather(good):\n",
        "  print(\"The weather is {good}\")\n",
        "  if weather == 'good':\n",
        "    print(\"go outside\")\n",
        "  else:\n",
        "    print(\"stay inside\")\n"
      ],
      "metadata": {
        "id": "3LPRZ9hcTalF"
      },
      "execution_count": null,
      "outputs": []
    },
    {
      "cell_type": "code",
      "source": [
        "weather('good')"
      ],
      "metadata": {
        "colab": {
          "base_uri": "https://localhost:8080/"
        },
        "id": "_Bj08wIYUdr3",
        "outputId": "f92026c9-f35b-4332-81d7-d8d5436ba016"
      },
      "execution_count": null,
      "outputs": [
        {
          "output_type": "stream",
          "name": "stdout",
          "text": [
            "The weather is {good}\n",
            "stay inside\n"
          ]
        }
      ]
    },
    {
      "cell_type": "code",
      "source": [
        "def cat(mood):\n",
        "  print(mood)\n",
        "  if mood == 'happy':\n",
        "    print(\"purr\")\n",
        "  else:\n",
        "    print(\"meow\")"
      ],
      "metadata": {
        "id": "D0id0PScVTk5"
      },
      "execution_count": null,
      "outputs": []
    },
    {
      "cell_type": "code",
      "source": [
        "cat('happy')"
      ],
      "metadata": {
        "colab": {
          "base_uri": "https://localhost:8080/"
        },
        "id": "l8KGkqrOVp5Y",
        "outputId": "b77b9a7b-834b-4dfa-e4af-3c75c7a20b13"
      },
      "execution_count": null,
      "outputs": [
        {
          "output_type": "stream",
          "name": "stdout",
          "text": [
            "happy\n",
            "purr\n"
          ]
        }
      ]
    },
    {
      "cell_type": "code",
      "source": [
        "cat('sad')"
      ],
      "metadata": {
        "colab": {
          "base_uri": "https://localhost:8080/"
        },
        "id": "PUVKLXAGVsD4",
        "outputId": "2f686d8d-636d-4b9e-e7e3-82f3ea26dd1c"
      },
      "execution_count": null,
      "outputs": [
        {
          "output_type": "stream",
          "name": "stdout",
          "text": [
            "sad\n",
            "meow\n"
          ]
        }
      ]
    },
    {
      "cell_type": "markdown",
      "source": [],
      "metadata": {
        "id": "ZTCTTJ49bbnT"
      }
    },
    {
      "cell_type": "code",
      "source": [
        "# Define function\n",
        "def greeting(name, department):\n",
        "  print(\"Hello, \" + name)\n",
        "  print(\"You are part of \" + department)"
      ],
      "metadata": {
        "id": "3_rJxzimbNZW"
      },
      "execution_count": null,
      "outputs": []
    },
    {
      "cell_type": "code",
      "source": [
        "# Keyword argument\n",
        "greeting(\"Joy\", \"AI developer\")"
      ],
      "metadata": {
        "colab": {
          "base_uri": "https://localhost:8080/"
        },
        "id": "SS3lQsrrbm4F",
        "outputId": "21987dc3-55ba-46e1-8084-1fbe17a8e931"
      },
      "execution_count": null,
      "outputs": [
        {
          "output_type": "stream",
          "name": "stdout",
          "text": [
            "Hello, Joy\n",
            "You are part of AI developer\n"
          ]
        }
      ]
    },
    {
      "cell_type": "code",
      "source": [
        "# Keyword argument\n",
        "greeting(\"Ayo,\" ,\"Software engineering\")"
      ],
      "metadata": {
        "colab": {
          "base_uri": "https://localhost:8080/"
        },
        "id": "PX70fGPYb3xx",
        "outputId": "1c7169db-6e22-4a02-fd5d-0661fe74a963"
      },
      "execution_count": null,
      "outputs": [
        {
          "output_type": "stream",
          "name": "stdout",
          "text": [
            "Hello, Ayo,\n",
            "You are part of Software engineering\n"
          ]
        }
      ]
    },
    {
      "cell_type": "code",
      "source": [
        "def student(firstname, lastname):\n",
        "    print(firstname, lastname)\n"
      ],
      "metadata": {
        "id": "oyzrW90clSAS"
      },
      "execution_count": null,
      "outputs": []
    },
    {
      "cell_type": "code",
      "source": [
        "  # Keyword argument\n",
        "student(firstname='Joy', lastname='Olusanya')"
      ],
      "metadata": {
        "colab": {
          "base_uri": "https://localhost:8080/"
        },
        "id": "tL56inIAlg_U",
        "outputId": "6b17f89a-348c-4fe6-b9bb-b5af11aa890b"
      },
      "execution_count": null,
      "outputs": [
        {
          "output_type": "stream",
          "name": "stdout",
          "text": [
            "Joy Olusanya\n"
          ]
        }
      ]
    },
    {
      "cell_type": "code",
      "source": [
        "# Arbitrary Keyword Arguments, **kwargs"
      ],
      "metadata": {
        "id": "bRWlOU0cpppE"
      },
      "execution_count": null,
      "outputs": []
    },
    {
      "cell_type": "code",
      "source": [
        "def my_function(**Naomi):\n",
        "    print(\"Her last name is \" + Naomi[\"lastname\"])\n",
        "\n",
        "my_function(fname=\"Joy\", lastname=\"Olusanya\")\n"
      ],
      "metadata": {
        "colab": {
          "base_uri": "https://localhost:8080/"
        },
        "id": "IKD7ymnVoUq0",
        "outputId": "b1905134-682d-4abf-e81c-f4b1237e3adb"
      },
      "execution_count": null,
      "outputs": [
        {
          "output_type": "stream",
          "name": "stdout",
          "text": [
            "Her last name is Olusanya\n"
          ]
        }
      ]
    },
    {
      "cell_type": "markdown",
      "source": [
        "Returning Values"
      ],
      "metadata": {
        "id": "1DByqNqdioS4"
      }
    },
    {
      "cell_type": "code",
      "source": [
        "def add1(a):\n",
        "  b = a + 1\n",
        "  return b\n"
      ],
      "metadata": {
        "id": "U23peuWpc6y2"
      },
      "execution_count": null,
      "outputs": []
    },
    {
      "cell_type": "code",
      "source": [
        "print(add1(5))"
      ],
      "metadata": {
        "colab": {
          "base_uri": "https://localhost:8080/"
        },
        "id": "DBcR-bfIdaBd",
        "outputId": "796a04f2-0730-4df0-daa9-33566364b250"
      },
      "execution_count": null,
      "outputs": [
        {
          "output_type": "stream",
          "name": "stdout",
          "text": [
            "6\n"
          ]
        }
      ]
    },
    {
      "cell_type": "code",
      "source": [
        "def add1(a):\n",
        "  b = a + 1\n",
        "  return b"
      ],
      "metadata": {
        "id": "-kgnyz6RdnTd"
      },
      "execution_count": null,
      "outputs": []
    },
    {
      "cell_type": "code",
      "source": [
        "c = add1(5)\n",
        "print(c)"
      ],
      "metadata": {
        "colab": {
          "base_uri": "https://localhost:8080/"
        },
        "id": "UOnhbpj7dyBp",
        "outputId": "1bd12f6b-537d-42a0-adca-c7f161c3c086"
      },
      "execution_count": null,
      "outputs": [
        {
          "output_type": "stream",
          "name": "stdout",
          "text": [
            "6\n"
          ]
        }
      ]
    },
    {
      "cell_type": "code",
      "source": [
        "def add1(a):\n",
        "  b = a + 1\n",
        "  return b"
      ],
      "metadata": {
        "id": "tKEDQYIQd7t1"
      },
      "execution_count": null,
      "outputs": []
    },
    {
      "cell_type": "code",
      "source": [
        "d = add1(8)\n",
        "print(d)"
      ],
      "metadata": {
        "colab": {
          "base_uri": "https://localhost:8080/"
        },
        "id": "LSTzhPDgeCnn",
        "outputId": "488ad044-2337-4712-bfd1-665747e44017"
      },
      "execution_count": null,
      "outputs": [
        {
          "output_type": "stream",
          "name": "stdout",
          "text": [
            "9\n"
          ]
        }
      ]
    },
    {
      "cell_type": "code",
      "source": [
        "def area_traingle(base, height):\n",
        "  return (base*height)/2"
      ],
      "metadata": {
        "id": "O7q3Nibmhh8f"
      },
      "execution_count": null,
      "outputs": []
    },
    {
      "cell_type": "code",
      "source": [
        "area_a = area_traingle(5, 4)\n",
        "area_b = area_traingle(7, 3)\n",
        "print(\"The sum of both area is:\" + str(area_a + area_b))"
      ],
      "metadata": {
        "colab": {
          "base_uri": "https://localhost:8080/"
        },
        "id": "_TVLRaLkhqle",
        "outputId": "e4d742ce-1c1f-4d9b-dbbe-050061b3422f"
      },
      "execution_count": null,
      "outputs": [
        {
          "output_type": "stream",
          "name": "stdout",
          "text": [
            "The sum of both area is:20.5\n"
          ]
        }
      ]
    },
    {
      "cell_type": "code",
      "source": [
        "def my_function(x):\n",
        "  return 10* x\n",
        "\n",
        "print(my_function(5))\n",
        "print(my_function(15))\n",
        "print(my_function(10))"
      ],
      "metadata": {
        "colab": {
          "base_uri": "https://localhost:8080/"
        },
        "id": "4uCuyUXBi55K",
        "outputId": "c248ae94-a0db-45ba-e30b-41db48360301"
      },
      "execution_count": null,
      "outputs": [
        {
          "output_type": "stream",
          "name": "stdout",
          "text": [
            "50\n",
            "150\n",
            "100\n"
          ]
        }
      ]
    },
    {
      "cell_type": "markdown",
      "source": [
        "Default Parameter Value"
      ],
      "metadata": {
        "id": "FKMMDLcEen79"
      }
    },
    {
      "cell_type": "code",
      "source": [
        "def my_function(country = 'Nigeria'):\n",
        "  print(\"I am from \" + country)\n",
        "\n",
        "my_function(\"Ghana\")\n",
        "my_function(\"Turkey\")\n",
        "my_function()\n",
        "my_function(\"USA\")"
      ],
      "metadata": {
        "colab": {
          "base_uri": "https://localhost:8080/"
        },
        "id": "P0NN0uTHeplD",
        "outputId": "f2b22f2b-64ba-4fe1-e424-789630d3878c"
      },
      "execution_count": null,
      "outputs": [
        {
          "output_type": "stream",
          "name": "stdout",
          "text": [
            "I am from Ghana\n",
            "I am from Turkey\n",
            "I am from Nigeria\n",
            "I am from USA\n"
          ]
        }
      ]
    }
  ]
}