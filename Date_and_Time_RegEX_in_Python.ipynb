{
  "nbformat": 4,
  "nbformat_minor": 0,
  "metadata": {
    "colab": {
      "provenance": [],
      "authorship_tag": "ABX9TyORfe2liIH+kcJ46Huuq18V",
      "include_colab_link": true
    },
    "kernelspec": {
      "name": "python3",
      "display_name": "Python 3"
    },
    "language_info": {
      "name": "python"
    }
  },
  "cells": [
    {
      "cell_type": "markdown",
      "metadata": {
        "id": "view-in-github",
        "colab_type": "text"
      },
      "source": [
        "<a href=\"https://colab.research.google.com/github/joynaomi81/Python-Programming/blob/main/Date_and_Time_RegEX_in_Python.ipynb\" target=\"_parent\"><img src=\"https://colab.research.google.com/assets/colab-badge.svg\" alt=\"Open In Colab\"/></a>"
      ]
    },
    {
      "cell_type": "markdown",
      "source": [
        "# Date and Time in Python"
      ],
      "metadata": {
        "id": "XdnW0Y_bVkV_"
      }
    },
    {
      "cell_type": "code",
      "source": [
        "import time"
      ],
      "metadata": {
        "id": "cQXopzd6THYD"
      },
      "execution_count": 12,
      "outputs": []
    },
    {
      "cell_type": "code",
      "source": [
        "time . time()"
      ],
      "metadata": {
        "colab": {
          "base_uri": "https://localhost:8080/"
        },
        "id": "kyKOPdTDTHUq",
        "outputId": "59817c76-1740-4d61-a2ef-13f2235586a8"
      },
      "execution_count": 13,
      "outputs": [
        {
          "output_type": "execute_result",
          "data": {
            "text/plain": [
              "1728125579.030082"
            ]
          },
          "metadata": {},
          "execution_count": 13
        }
      ]
    },
    {
      "cell_type": "code",
      "source": [
        "time.ctime(1728125579.030082)"
      ],
      "metadata": {
        "colab": {
          "base_uri": "https://localhost:8080/",
          "height": 35
        },
        "id": "waR4rO8YTHR3",
        "outputId": "34090b82-1a7b-4fd3-8ae2-228b8d89c45b"
      },
      "execution_count": 14,
      "outputs": [
        {
          "output_type": "execute_result",
          "data": {
            "text/plain": [
              "'Sat Oct  5 10:52:59 2024'"
            ],
            "application/vnd.google.colaboratory.intrinsic+json": {
              "type": "string"
            }
          },
          "metadata": {},
          "execution_count": 14
        }
      ]
    },
    {
      "cell_type": "code",
      "source": [
        "time.localtime()"
      ],
      "metadata": {
        "colab": {
          "base_uri": "https://localhost:8080/"
        },
        "id": "wVvUBijQTHOs",
        "outputId": "7310e35c-8fa2-47a7-b66a-e42405ad1a79"
      },
      "execution_count": 15,
      "outputs": [
        {
          "output_type": "execute_result",
          "data": {
            "text/plain": [
              "time.struct_time(tm_year=2024, tm_mon=10, tm_mday=5, tm_hour=10, tm_min=54, tm_sec=56, tm_wday=5, tm_yday=279, tm_isdst=0)"
            ]
          },
          "metadata": {},
          "execution_count": 15
        }
      ]
    },
    {
      "cell_type": "markdown",
      "source": [
        "Date"
      ],
      "metadata": {
        "id": "JJCRYv2OVSUX"
      }
    },
    {
      "cell_type": "code",
      "source": [
        "x=time.strftime(\"%d/%m/%y\") #dd/mm/yyyy"
      ],
      "metadata": {
        "id": "i-kw761_THLy"
      },
      "execution_count": 16,
      "outputs": []
    },
    {
      "cell_type": "code",
      "source": [
        "print(x)"
      ],
      "metadata": {
        "colab": {
          "base_uri": "https://localhost:8080/"
        },
        "id": "w9nFZObPTHJL",
        "outputId": "4b9f3913-c205-4520-d6e8-bfb3329faae4"
      },
      "execution_count": 17,
      "outputs": [
        {
          "output_type": "stream",
          "name": "stdout",
          "text": [
            "05/10/24\n"
          ]
        }
      ]
    },
    {
      "cell_type": "markdown",
      "source": [
        "Datetime"
      ],
      "metadata": {
        "id": "pBKyFnO7VtY5"
      }
    },
    {
      "cell_type": "code",
      "source": [
        "import datetime\n",
        "\n",
        "x = datetime.datetime(2024, 10, 5)\n",
        "\n",
        "print(x)\n"
      ],
      "metadata": {
        "colab": {
          "base_uri": "https://localhost:8080/"
        },
        "id": "XNf2BkOkV0dB",
        "outputId": "4d86dd76-da99-458a-d49f-c0d9f1bd1a2a"
      },
      "execution_count": 18,
      "outputs": [
        {
          "output_type": "stream",
          "name": "stdout",
          "text": [
            "2024-10-05 00:00:00\n"
          ]
        }
      ]
    },
    {
      "cell_type": "code",
      "source": [
        "datetime.datetime.now() #yy/mm/dd"
      ],
      "metadata": {
        "colab": {
          "base_uri": "https://localhost:8080/"
        },
        "id": "iCL50cUdWFKl",
        "outputId": "33e94238-a8e3-4e82-b1d7-5545170630fa"
      },
      "execution_count": 20,
      "outputs": [
        {
          "output_type": "execute_result",
          "data": {
            "text/plain": [
              "datetime.datetime(2024, 10, 5, 11, 3, 25, 240795)"
            ]
          },
          "metadata": {},
          "execution_count": 20
        }
      ]
    },
    {
      "cell_type": "code",
      "source": [
        "v=datetime.datetime.now() #yy/mm/dd"
      ],
      "metadata": {
        "id": "9P3SW-7RWUKX"
      },
      "execution_count": 22,
      "outputs": []
    },
    {
      "cell_type": "code",
      "source": [
        "v.year"
      ],
      "metadata": {
        "colab": {
          "base_uri": "https://localhost:8080/"
        },
        "id": "tCI5jZ8CWh_M",
        "outputId": "5d9554ba-c7ae-4639-d7b7-35fe12fb7a12"
      },
      "execution_count": 23,
      "outputs": [
        {
          "output_type": "execute_result",
          "data": {
            "text/plain": [
              "2024"
            ]
          },
          "metadata": {},
          "execution_count": 23
        }
      ]
    },
    {
      "cell_type": "markdown",
      "source": [
        "# RegEx Functions\n",
        "* findall:\tReturns a list containing all matches\n",
        "* search:\tReturns a Match object if there is a match anywhere in the string\n",
        "* split:\tReturns a list where the string has been split at each match\n",
        "* sub:\tReplaces one or many matches with a string\n",
        "\n",
        "\n"
      ],
      "metadata": {
        "id": "6vR3WRYOZaKE"
      }
    },
    {
      "cell_type": "code",
      "source": [
        "import re"
      ],
      "metadata": {
        "id": "ua8TDRGRWvWQ"
      },
      "execution_count": 24,
      "outputs": []
    },
    {
      "cell_type": "code",
      "source": [
        "text =\"The only thing we have to fear is fear itself. -Franklin D. Roosevelt\""
      ],
      "metadata": {
        "id": "LqjS31d0bQd2"
      },
      "execution_count": 25,
      "outputs": []
    },
    {
      "cell_type": "code",
      "source": [
        "re .search(\"fear\",text)"
      ],
      "metadata": {
        "colab": {
          "base_uri": "https://localhost:8080/"
        },
        "id": "j6gCLG7ZbZZJ",
        "outputId": "6640fad4-4002-4242-c6fe-670e20f6385e"
      },
      "execution_count": 26,
      "outputs": [
        {
          "output_type": "execute_result",
          "data": {
            "text/plain": [
              "<re.Match object; span=(26, 30), match='fear'>"
            ]
          },
          "metadata": {},
          "execution_count": 26
        }
      ]
    },
    {
      "cell_type": "code",
      "source": [
        "re.findall(\"fear\",text)"
      ],
      "metadata": {
        "colab": {
          "base_uri": "https://localhost:8080/"
        },
        "id": "PCNkeR2mbh9a",
        "outputId": "12c55419-a5cc-4e85-9132-e68d5305a9e7"
      },
      "execution_count": 27,
      "outputs": [
        {
          "output_type": "execute_result",
          "data": {
            "text/plain": [
              "['fear', 'fear']"
            ]
          },
          "metadata": {},
          "execution_count": 27
        }
      ]
    },
    {
      "cell_type": "code",
      "source": [
        "re.split(\"\\.\",text)"
      ],
      "metadata": {
        "colab": {
          "base_uri": "https://localhost:8080/"
        },
        "id": "S8KLBl4Tb2RJ",
        "outputId": "424a9979-cb51-4c59-e5ec-8b4fdacebf4a"
      },
      "execution_count": 31,
      "outputs": [
        {
          "output_type": "execute_result",
          "data": {
            "text/plain": [
              "['The only thing we have to fear is fear itself', ' -Franklin D', ' Roosevelt']"
            ]
          },
          "metadata": {},
          "execution_count": 31
        }
      ]
    },
    {
      "cell_type": "code",
      "source": [
        "re.sub(\"only\",\"one\",text) # replace 'only' with 'one'"
      ],
      "metadata": {
        "colab": {
          "base_uri": "https://localhost:8080/",
          "height": 35
        },
        "id": "1FIRTkB-csM9",
        "outputId": "db5c7eb2-84e4-4dc4-af01-d985615e7343"
      },
      "execution_count": 33,
      "outputs": [
        {
          "output_type": "execute_result",
          "data": {
            "text/plain": [
              "'The one thing we have to fear is fear itself. -Franklin D. Roosevelt'"
            ],
            "application/vnd.google.colaboratory.intrinsic+json": {
              "type": "string"
            }
          },
          "metadata": {},
          "execution_count": 33
        }
      ]
    },
    {
      "cell_type": "code",
      "source": [],
      "metadata": {
        "id": "FZqdk-LkdEAb"
      },
      "execution_count": null,
      "outputs": []
    }
  ]
}